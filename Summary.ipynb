{
 "cells": [
  {
   "cell_type": "markdown",
   "metadata": {},
   "source": [
    "## Module 1 - Multiple Regression Analysis of Body Fat Percent\n",
    "*Yanqi Huang, Wenjin Li, Xiawei Wang*"
   ]
  },
  {
   "cell_type": "markdown",
   "metadata": {},
   "source": [
    "### Introduction\n",
    "Percentage of body fat of an individual can be estimated by body density which can be given by an underwater weighing technique. However, the process of determining the body density is difficult. With the given data set, we aim at examining the relationships between Percentage of Body fat and commonly available measurements. The results of analysis show that the percentage of body fat of American Men is negative related with Height and Wrist, positive related with Abdomen size and Age."
   ]
  },
  {
   "cell_type": "markdown",
   "metadata": {},
   "source": [
    "### Background and Analysis of Body Density data\n",
    "Body-fat percentage is a better measure of the risk of weight-related diseases. A variety of health books and reports give predictive equations for body fat percentage in terms of their ages and body circumference measurements.\n",
    "\n",
    "The dataset consists of 16 variables recorded for 252 men from United States. The 16 variables are Percentage of body fat(%), Body density from underwater weighing (gm/cm^3), Age (year), Weight (lbs), Height (inches), BMI(kg/m^2) and ten Body Circumferences (Neck, Chest, Abdomen, Hip, Thigh, Knee, Ankle, Biceps, Forearm, Wrist, all in units of cm). Percentage of body fat is given from Siri's (1956) equation:\n",
    "\n",
    "$$Percentage\\ of\\ body\\ fat = 495/Density\\ – 450$$"
   ]
  },
  {
   "cell_type": "code",
   "execution_count": 1,
   "metadata": {},
   "outputs": [],
   "source": [
    "library(readr)\n",
    "BodyFatClean <- read_csv(\"data/BodyFatClean.csv\", col_types = cols(DENSITY = col_skip()))"
   ]
  },
  {
   "cell_type": "markdown",
   "metadata": {},
   "source": [
    "By Siri's equation, given a body density of 1.1089, the percentage body fat is negative which is treated as 0 in the dataset. From the summary of the initial dataset, we detected that the minimums of Bodyfat, Weight and some other measurements and the maximum of Density all come from the 182nd observation; In addition, the maximums of Weight, Neck Cir. and other measurement are all from the 39th observation. Also, the 42nd observation has the minimum of Height.\n",
    "\n",
    "So far we conclude that the 39th, 42nd and 182nd observations should be treated as ourliers and are better to be excluded in further analysis. We also delete the 48th, 76th and 96th observations since their values diverge completely from the Siri's equation."
   ]
  },
  {
   "cell_type": "markdown",
   "metadata": {},
   "source": [
    "### Regression Models for Body Fat Percent\n",
    "The percentage of body fat is usually estimated by body density, while it is difficult to measure the density by underwater submersion . For doctors, a quick and easy way, though not so accurate way is practical. The commonly available measurements are closely related to %bodyfat and can be obtained readily. Therefore we intend to build a model estimating %bodyfat based on these measurements. And for simplicity, we choose linear model which is simple and easy to use. Since the density is hard to estimated, we keep it aside from the liner regression model."
   ]
  },
  {
   "cell_type": "code",
   "execution_count": 2,
   "metadata": {},
   "outputs": [
    {
     "name": "stdout",
     "output_type": "stream",
     "text": [
      "     ANKLE        AGE    FOREARM      WRIST     BICEPS       NECK       KNEE \n",
      "  1.851834   2.290695   2.393534   3.201316   3.398873   3.868223   4.323974 \n",
      "     THIGH      CHEST        HIP    ABDOMEN     HEIGHT  ADIPOSITY     WEIGHT \n",
      "  7.025465  10.996107  12.196766  12.258507  27.617778  91.789505 122.668687 \n"
     ]
    }
   ],
   "source": [
    "lm.full <- lm(formula = BODYFAT ~ ., data = BodyFatClean)\n",
    "library(car)\n",
    "print(sort(vif(lm.full)))"
   ]
  },
  {
   "cell_type": "markdown",
   "metadata": {},
   "source": [
    "We first put all the variables into the general linear regression model to get a rough impression about the relationship between 14 variables. The R-squared of full model is 73.26%, which indicates the model is in general a good present of %body fat. However, most of the coefficients seem to be insignificant.  Furthermore, the vif table also shows that the 14 predictors confound each other so that multicollinearity is needed to be taken into account.\n",
    "\n",
    "To decrease the dimensions of variables while keep the strength in interpreting the data, we considered Lasso method and backward selection model.\n",
    "\n",
    "**Backward Selection Model:** Three variables(ABDOMEN, WRIST, AGE) were selected from the full model.\n",
    "\n",
    "**Lasso Method:** Five variables(ABDOMEN, WRIST, AGE, HEIGHT, NECK) were selected from the full model. However, coefficient of neck is insignificant so we only keep the first four predictors.\n",
    "\n",
    "Perform stepwise mothod on the Lasso method model, three variables(ABDOMEN, WRIST, HEIGHT) were kept."
   ]
  },
  {
   "cell_type": "code",
   "execution_count": 3,
   "metadata": {},
   "outputs": [],
   "source": [
    "lm.lasso <- lm(formula = BODYFAT ~ HEIGHT + ABDOMEN + WRIST + AGE, data = BodyFatClean)\n",
    "lm.lasso.step <- lm(formula = BODYFAT ~ HEIGHT + ABDOMEN + WRIST, data = BodyFatClean)\n",
    "lm.backward <- lm(formula = BODYFAT ~ ABDOMEN + WRIST + AGE,data = BodyFatClean)"
   ]
  },
  {
   "cell_type": "code",
   "execution_count": 4,
   "metadata": {},
   "outputs": [
    {
     "data": {
      "text/html": [
       "<table>\n",
       "<thead><tr><th></th><th scope=col>Lasso</th><th scope=col>Backward</th><th scope=col>Lasso.step</th><th scope=col>Full</th></tr></thead>\n",
       "<tbody>\n",
       "\t<tr><th scope=row>Adjusted R^2</th><td>0.7294                     </td><td>0.7233                     </td><td>0.7252                     </td><td>0.7326                     </td></tr>\n",
       "\t<tr><th scope=row>AIC</th><td>1381.7638                  </td><td>1386.2765                  </td><td>1384.6215                  </td><td>1388.4901                  </td></tr>\n",
       "\t<tr><th scope=row>BIC</th><td>1402.7958                  </td><td>1403.8032                  </td><td>1402.1481                  </td><td>1444.5754                  </td></tr>\n",
       "\t<tr><th scope=row>MSE</th><td>15.337                     </td><td>15.7485                    </td><td>15.6429                    </td><td>14.5314                    </td></tr>\n",
       "\t<tr><th scope=row>Variables</th><td>HEIGHT, ABDOMEN, WRIST, AGE</td><td>HEIGHT, ABDOMEN, WRIST     </td><td>ABDOMEN, WRIST, AGE        </td><td>All                        </td></tr>\n",
       "</tbody>\n",
       "</table>\n"
      ],
      "text/latex": [
       "\\begin{tabular}{r|llll}\n",
       "  & Lasso & Backward & Lasso.step & Full\\\\\n",
       "\\hline\n",
       "\tAdjusted R\\textasciicircum{}2 & 0.7294                      & 0.7233                      & 0.7252                      & 0.7326                     \\\\\n",
       "\tAIC & 1381.7638                   & 1386.2765                   & 1384.6215                   & 1388.4901                  \\\\\n",
       "\tBIC & 1402.7958                   & 1403.8032                   & 1402.1481                   & 1444.5754                  \\\\\n",
       "\tMSE & 15.337                      & 15.7485                     & 15.6429                     & 14.5314                    \\\\\n",
       "\tVariables & HEIGHT, ABDOMEN, WRIST, AGE & HEIGHT, ABDOMEN, WRIST      & ABDOMEN, WRIST, AGE         & All                        \\\\\n",
       "\\end{tabular}\n"
      ],
      "text/markdown": [
       "\n",
       "| <!--/--> | Lasso | Backward | Lasso.step | Full | \n",
       "|---|---|---|---|---|\n",
       "| Adjusted R^2 | 0.7294                      | 0.7233                      | 0.7252                      | 0.7326                      | \n",
       "| AIC | 1381.7638                   | 1386.2765                   | 1384.6215                   | 1388.4901                   | \n",
       "| BIC | 1402.7958                   | 1403.8032                   | 1402.1481                   | 1444.5754                   | \n",
       "| MSE | 15.337                      | 15.7485                     | 15.6429                     | 14.5314                     | \n",
       "| Variables | HEIGHT, ABDOMEN, WRIST, AGE | HEIGHT, ABDOMEN, WRIST      | ABDOMEN, WRIST, AGE         | All                         | \n",
       "\n",
       "\n"
      ],
      "text/plain": [
       "             Lasso                       Backward              \n",
       "Adjusted R^2 0.7294                      0.7233                \n",
       "AIC          1381.7638                   1386.2765             \n",
       "BIC          1402.7958                   1403.8032             \n",
       "MSE          15.337                      15.7485               \n",
       "Variables    HEIGHT, ABDOMEN, WRIST, AGE HEIGHT, ABDOMEN, WRIST\n",
       "             Lasso.step          Full     \n",
       "Adjusted R^2 0.7252              0.7326   \n",
       "AIC          1384.6215           1388.4901\n",
       "BIC          1402.1481           1444.5754\n",
       "MSE          15.6429             14.5314  \n",
       "Variables    ABDOMEN, WRIST, AGE All      "
      ]
     },
     "metadata": {},
     "output_type": "display_data"
    }
   ],
   "source": [
    "load(\"data/summary.RData\"); summary"
   ]
  },
  {
   "cell_type": "markdown",
   "metadata": {},
   "source": [
    "From lasso algorithm, abdomen and wrist sizes, height and age are selected as predictors. These four variables together account for about 73% of the variation in %body fat among men. If we delete the variable Height or Age from the model, the adjusted R-squared decreases as MSE, AIC and BIC increase. However, Height and Age are both easy to obtained so that we just keep them in. Then we get the final regression model with all of the four predictors HEIGHT, ABDOMEN, WRIST, AGE."
   ]
  },
  {
   "cell_type": "code",
   "execution_count": 5,
   "metadata": {},
   "outputs": [
    {
     "data": {
      "text/html": [
       "<table>\n",
       "<thead><tr><th></th><th scope=col>Estimate</th><th scope=col>Std. Error</th><th scope=col>t value</th><th scope=col>Pr(&gt;|t|)</th><th scope=col>Confidence Intervals</th></tr></thead>\n",
       "<tbody>\n",
       "\t<tr><th scope=row>(Intercept)</th><td>4.0542             </td><td>7.6801             </td><td>0.5279             </td><td>0.5981             </td><td>(-10.9985, 19.1068)</td></tr>\n",
       "\t<tr><th scope=row>HEIGHT</th><td>-0.2895            </td><td>0.1139             </td><td>-2.5427            </td><td>0.0116             </td><td>(-0.5126, -0.0663) </td></tr>\n",
       "\t<tr><th scope=row>ABDOMEN</th><td>0.7115             </td><td>0.0315             </td><td>22.5524            </td><td>0                  </td><td>(0.6497, 0.7733)   </td></tr>\n",
       "\t<tr><th scope=row>WRIST</th><td>-1.7945            </td><td>0.3813             </td><td>-4.7062            </td><td>0                  </td><td>(-2.5419, -1.0472) </td></tr>\n",
       "\t<tr><th scope=row>AGE</th><td>0.0486             </td><td>0.0221             </td><td>2.1923             </td><td>0.0293             </td><td>(0.0051, 0.092)    </td></tr>\n",
       "</tbody>\n",
       "</table>\n"
      ],
      "text/latex": [
       "\\begin{tabular}{r|lllll}\n",
       "  & Estimate & Std. Error & t value & Pr(>\\textbar{}t\\textbar{}) & Confidence Intervals\\\\\n",
       "\\hline\n",
       "\t(Intercept) & 4.0542              & 7.6801              & 0.5279              & 0.5981              & (-10.9985, 19.1068)\\\\\n",
       "\tHEIGHT & -0.2895             & 0.1139              & -2.5427             & 0.0116              & (-0.5126, -0.0663) \\\\\n",
       "\tABDOMEN & 0.7115              & 0.0315              & 22.5524             & 0                   & (0.6497, 0.7733)   \\\\\n",
       "\tWRIST & -1.7945             & 0.3813              & -4.7062             & 0                   & (-2.5419, -1.0472) \\\\\n",
       "\tAGE & 0.0486              & 0.0221              & 2.1923              & 0.0293              & (0.0051, 0.092)    \\\\\n",
       "\\end{tabular}\n"
      ],
      "text/markdown": [
       "\n",
       "| <!--/--> | Estimate | Std. Error | t value | Pr(>|t|) | Confidence Intervals | \n",
       "|---|---|---|---|---|\n",
       "| (Intercept) | 4.0542              | 7.6801              | 0.5279              | 0.5981              | (-10.9985, 19.1068) | \n",
       "| HEIGHT | -0.2895             | 0.1139              | -2.5427             | 0.0116              | (-0.5126, -0.0663)  | \n",
       "| ABDOMEN | 0.7115              | 0.0315              | 22.5524             | 0                   | (0.6497, 0.7733)    | \n",
       "| WRIST | -1.7945             | 0.3813              | -4.7062             | 0                   | (-2.5419, -1.0472)  | \n",
       "| AGE | 0.0486              | 0.0221              | 2.1923              | 0.0293              | (0.0051, 0.092)     | \n",
       "\n",
       "\n"
      ],
      "text/plain": [
       "            Estimate Std. Error t value Pr(>|t|) Confidence Intervals\n",
       "(Intercept) 4.0542   7.6801     0.5279  0.5981   (-10.9985, 19.1068) \n",
       "HEIGHT      -0.2895  0.1139     -2.5427 0.0116   (-0.5126, -0.0663)  \n",
       "ABDOMEN     0.7115   0.0315     22.5524 0        (0.6497, 0.7733)    \n",
       "WRIST       -1.7945  0.3813     -4.7062 0        (-2.5419, -1.0472)  \n",
       "AGE         0.0486   0.0221     2.1923  0.0293   (0.0051, 0.092)     "
      ]
     },
     "metadata": {},
     "output_type": "display_data"
    }
   ],
   "source": [
    "cbind(round(summary.lasso$coefficients, 4), \n",
    "      'Confidence Intervals' = paste0('(',round(CI.lower,4), ', ', round(CI.upper,4),')'))"
   ]
  },
  {
   "cell_type": "markdown",
   "metadata": {},
   "source": [
    "First, there is an overall null hypothesis that asks whether the entire model is better than just modeling y with its mean:  \n",
    "$H_0$: The model itself contributes nothing useful, and all the slope coefficients are equal to 0.  \n",
    "$H_A$: At least one of the coefficient is not 0.\n",
    "\n",
    "The standard errors and P-values for the slopes and intercept are both relatively small compared with the coefficients themselves, so it looks like the coefficient estimates are fairly precise."
   ]
  },
  {
   "cell_type": "markdown",
   "metadata": {},
   "source": [
    "### Model diagnostics\n",
    "After running a regression analysis, the other assumptions and conditions before we can interpret the model or test any hypotheses need to be checked."
   ]
  },
  {
   "cell_type": "code",
   "execution_count": null,
   "metadata": {},
   "outputs": [],
   "source": [
    "par(mfrow = c(3, 2)); options(repr.plot.width = 9, repr.plot.height = 7)\n",
    "plot(lm.lasso, which = 1); plot(lm.lasso, which = 3); plot(lm.lasso, which = 2);\n",
    "hist(lm.lasso$residuals); plot(lm.lasso, which = 5); plot(lm.lasso, which = 4)"
   ]
  },
  {
   "cell_type": "markdown",
   "metadata": {},
   "source": [
    "**Linearity Assumption**    \n",
    "The residuals vs fitted values plot shows no distinct patterns, which means there is no non-linear relation between predictors and outcomes. In another word, the simple linear model is approporiate.\n",
    "\n",
    "**Independence Assumption**  \n",
    "We carried out the Durbin-Watson test and the p-value of the test is greater than 0.05. As a result, we would not reject the null hypothesis that residuals are independent under the traditional level.\n",
    "\n",
    "**Equal Variance Assumption**    \n",
    "The Scale-Location plot also shows that the residuals appear spread randomly along the range of fitted values, which means residuals are homoscedastic.\n",
    "\n",
    "**Normality Assumption**    \n",
    "A histogram of the residuals is unimodal and symmetric. The QQ-plot of residuals presents a pattern of nearly straight line, so residuals also have standard normality. \n",
    "\n",
    "**Residuals vs Leverage**    \n",
    "The Residuals vs Leverage plot indicates there is no influential case. We can barely see Cook’s distance lines (a red dashed line) because all cases are well inside of the Cook’s distance lines. "
   ]
  },
  {
   "cell_type": "markdown",
   "metadata": {},
   "source": [
    "### Discussion of Model\n",
    "#### Strengths\n",
    "- Linearity: Scatterplots of Bodyfat against each of the predictors are reasonably straight. And the The residuals appear to be randomly scattered and have no pattern with respect to the predicted values, which indicates that we capture the linearity and there is no non-linear relation between %bodyfat and predictors.\n",
    "- Simplicity: The final model only has 4 predictors. To estimate body fat percentage of a man, we only need to access age, height, circumferences of abdomen and wrist. All of the measurements are easy to obtain.\n",
    "- The final model conform to our experience, which will be further discussed in the conclusion.\n",
    "\n",
    "#### Weakness\n",
    "- Homoscedasticity: The scale-location plot shows that the variation of %bodyfat seems to be less when fitted values get larger.\n",
    "- Normality: According to the qq-plot of residuals, it is suspected that the normal distribution is light-tailed.\n",
    "- Precision: Our practical methods have a 3% to 4% error factor in the prediction of body fat.\n",
    "- Restriction: Since the dataset is observed from American men, the conclusion will not be that accurate when it is used for women. The problem can be solved by scaling.\n",
    "- There may be non-linear relationships between bodyfat and circumferences.\n",
    "\n",
    "#### Possible rule of thumb\n",
    "Your height times -0.3, plus abdomen circumference times 0.7, plus wrist circumference times -1.8, plus age times 0.05 and then add 4.\n",
    "\n",
    "#### Example\n",
    "For a man aged 30 with 73 inches height, 90 cm abdomen Cir. and 17 cm wrist Cir., his predicted body fat % percentage would be around 17.87%. With the rule of thumb, we get about 16% as the predicted body fat %."
   ]
  },
  {
   "cell_type": "markdown",
   "metadata": {},
   "source": [
    "### Conclusion\n",
    "The estimated regression equation is simplified as:\n",
    "\n",
    "$${\\% Body\\ Fat} =  4.05 -0.29*Height + 0.71*Abdomen -1.79*Wrist + 0.05*Age$$\n",
    "\n",
    "The $R^2$ for the regression is 73%. Height, abdomen and forearm and wrist size together account for about 72.5% of the variation in %body fat among men. The regression equation indicates the underlying interpretation:\n",
    "- The positive intercept of the regression model proves a simple fact: body fat will always exist.\n",
    "- Each pound in height is associated with about a 0.3 decrease in %body fat among men.\n",
    "- Each centimeter of abdomen is associated with a increase in %body fat of about 0.7 among men.\n",
    "- Each centimeter of wrist is associated with a increase in %body fat of about 1.8 among men.\n",
    "- The increase of age will in general lead to the decrease in %body fat of about 0.05. \n",
    "\n",
    "Len Kravit assumed a two-component model of body composition divides the body into a fat component and fat-free component. He also figured out for men, abdomen is classfied as a good measurement for bodyfat, while wrist is considered as a fat-free component. Increasing age can also lead to reduced metabolism and increased % body fat. Thus the signs of coefficients seem to be reasonable. Furthermore, it's hard to solve the multicollinearity between circumferences and height, therefore the negative effect of height on body fat is an outcome of confounding."
   ]
  },
  {
   "cell_type": "markdown",
   "metadata": {},
   "source": [
    "### Contribution\n",
    "|    __Name__    | __Contribution__ |\n",
    "| -------------: | :--------------- |\n",
    "|   Yanqi Huang  | Completed the code and revised the summary.      |\n",
    "|   Wenjin Li    | Compiled the notebook, improved the algorithm.       |\n",
    "|   Xiawei Wang  | Prepared the slide and summrized our outputs and results.|"
   ]
  },
  {
   "cell_type": "markdown",
   "metadata": {},
   "source": [
    "### Reference\n",
    "1. Efron, Bradley, et al. \"Least angle regression.\" The Annals of statistics 32.2 (2004): 407-499.\n",
    "2. Johnson, Roger W. \"Fitting percentage of body fat to simple body measurements.\" Journal of Statistics Education 4.1 (1996).\n",
    "3. Aiken, Leona S., Stephen G. West, and Raymond R. Reno. Multiple regression: Testing and interpreting interactions. Sage, 1991.\n",
    "4. Kravitz, Len, and Vivian H. Heyward. \"Getting a grip on body composition.\" IDEA today 10 (1992): 34-41."
   ]
  }
 ],
 "metadata": {
  "kernelspec": {
   "display_name": "R",
   "language": "R",
   "name": "ir"
  },
  "language_info": {
   "codemirror_mode": "r",
   "file_extension": ".r",
   "mimetype": "text/x-r-source",
   "name": "R",
   "pygments_lexer": "r",
   "version": "3.4.3"
  }
 },
 "nbformat": 4,
 "nbformat_minor": 2
}
